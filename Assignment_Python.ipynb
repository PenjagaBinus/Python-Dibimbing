{
  "nbformat": 4,
  "nbformat_minor": 0,
  "metadata": {
    "colab": {
      "provenance": [],
      "authorship_tag": "ABX9TyP6yO2kmaKZAI77b2c4d+Z+",
      "include_colab_link": true
    },
    "kernelspec": {
      "name": "python3",
      "display_name": "Python 3"
    },
    "language_info": {
      "name": "python"
    }
  },
  "cells": [
    {
      "cell_type": "markdown",
      "metadata": {
        "id": "view-in-github",
        "colab_type": "text"
      },
      "source": [
        "<a href=\"https://colab.research.google.com/github/PenjagaBinus/Python-Dibimbing/blob/main/Assignment_Python.ipynb\" target=\"_parent\"><img src=\"https://colab.research.google.com/assets/colab-badge.svg\" alt=\"Open In Colab\"/></a>"
      ]
    },
    {
      "cell_type": "code",
      "execution_count": 26,
      "metadata": {
        "id": "XTpL5zY1xZ7V"
      },
      "outputs": [],
      "source": [
        "from multiprocessing import Pool\n",
        "import time"
      ]
    },
    {
      "cell_type": "code",
      "source": [
        "class Mahasiswa:\n",
        "\n",
        "  kampus = \"Universitas Dibimbing\"\n",
        "  total_mhs = 0\n",
        "\n",
        "  def __init__(self, nama, nim, jurusan):\n",
        "    self.nama = nama\n",
        "    self.nim = nim\n",
        "    self.jurusan = jurusan\n",
        "    Mahasiswa.total_mhs += 1\n",
        "\n",
        "  def get_nama(self):\n",
        "    return self.nama\n",
        "\n",
        "  def get_nim(self):\n",
        "    return self.nim\n",
        "\n",
        "  def get_jurusan(self):\n",
        "    return self.jurusan\n",
        "\n",
        "  def get_total_mhs():\n",
        "    return Mahasiswa.total_mhs\n",
        "\n",
        "  def belajar(self):\n",
        "\n",
        "      pass"
      ],
      "metadata": {
        "id": "Y0hE6Ss41_Za"
      },
      "execution_count": 33,
      "outputs": []
    },
    {
      "cell_type": "code",
      "source": [
        "class Dokter(Mahasiswa):\n",
        "    def belajar(self):\n",
        "        return f\"Pasien {self.nama} berikutnya\"\n",
        "\n",
        "class Pengacara(Mahasiswa):\n",
        "    def belajar(self):\n",
        "        return f\"Klien {self.nama} berikutnya\""
      ],
      "metadata": {
        "id": "amG2MI-F55ej"
      },
      "execution_count": 34,
      "outputs": []
    },
    {
      "cell_type": "code",
      "source": [
        "def mhs_sedang_belajar(mahasiswa):\n",
        "    return mahasiswa.belajar()\n",
        "\n",
        "def mhs_belajar_bareng(mahasiswas):\n",
        "    with Pool() as pool:\n",
        "        results = pool.map(mhs_sedang_belajar, mahasiswas)\n",
        "        return results"
      ],
      "metadata": {
        "id": "Tg9qWvBG7iLV"
      },
      "execution_count": 35,
      "outputs": []
    },
    {
      "cell_type": "code",
      "source": [
        "if __name__ == \"__main__\":\n",
        "  mahasiswaku = [\n",
        "      Dokter(\"Jamal\",\"231\",\"Jantung\"),\n",
        "      Pengacara(\"Hotman\",\"232\",\"Pajak\"),\n",
        "      Dokter(\"Jamala\",\"233\",\"Ginjal\"),\n",
        "      Pengacara(\"Hotwomen\",\"234\",\"Sengketa\")\n",
        "  ]"
      ],
      "metadata": {
        "id": "mLWAPYmE8PCR"
      },
      "execution_count": 36,
      "outputs": []
    },
    {
      "cell_type": "code",
      "source": [
        "print(\"Total Mahasiswa\", Mahasiswa.get_total_mhs())"
      ],
      "metadata": {
        "colab": {
          "base_uri": "https://localhost:8080/"
        },
        "id": "AVgvd7Ue9pSL",
        "outputId": "8a98e202-a9a4-47e0-f110-1bbc30eea219"
      },
      "execution_count": 37,
      "outputs": [
        {
          "output_type": "stream",
          "name": "stdout",
          "text": [
            "Total Mahasiswa 4\n"
          ]
        }
      ]
    },
    {
      "cell_type": "code",
      "source": [
        "start_time = time.time()\n",
        "mahasiswa_kerja = mhs_belajar_bareng(mahasiswaku)\n",
        "end_time = time.time()\n",
        "\n",
        "print(\"Mahasiswa Belajar Bareng\")\n",
        "print(f\"Mahasiswa belajar selama {end_time - start_time:.4f} detik\")\n",
        "\n",
        "for i in mahasiswa_kerja:\n",
        "    print(i)"
      ],
      "metadata": {
        "colab": {
          "base_uri": "https://localhost:8080/"
        },
        "id": "DoLh2PbZ_Prk",
        "outputId": "f179923b-251b-4272-a0e1-ed2608ab404f"
      },
      "execution_count": 38,
      "outputs": [
        {
          "output_type": "stream",
          "name": "stdout",
          "text": [
            "Mahasiswa Belajar Bareng\n",
            "Mahasiswa belajar selama 0.0492 detik\n",
            "Pasien Jamal berikutnya\n",
            "Klien Hotman berikutnya\n",
            "Pasien Jamala berikutnya\n",
            "Klien Hotwomen berikutnya\n"
          ]
        }
      ]
    },
    {
      "cell_type": "markdown",
      "source": [
        "# Dibantu dengan AI"
      ],
      "metadata": {
        "id": "VjG9lT1KAXgi"
      }
    }
  ]
}