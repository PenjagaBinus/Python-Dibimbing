{
  "nbformat": 4,
  "nbformat_minor": 0,
  "metadata": {
    "colab": {
      "provenance": []
    },
    "kernelspec": {
      "name": "python3",
      "display_name": "Python 3"
    },
    "language_info": {
      "name": "python"
    }
  },
  "cells": [
    {
      "cell_type": "markdown",
      "source": [
        "OOP Basic"
      ],
      "metadata": {
        "id": "sZ6gYAVCmMLW"
      }
    },
    {
      "cell_type": "code",
      "execution_count": 25,
      "metadata": {
        "colab": {
          "base_uri": "https://localhost:8080/"
        },
        "id": "x9jZyZqoWLu7",
        "outputId": "36adba56-fb68-46b4-ef92-b729b41ebb92"
      },
      "outputs": [
        {
          "output_type": "stream",
          "name": "stdout",
          "text": [
            "Hidup\n"
          ]
        }
      ],
      "source": [
        "class Hewan:\n",
        "    klasifikasi = \"Hidup\"\n",
        "\n",
        "    def __init__(self,tinggi,lebar):\n",
        "      self.tinggi = tinggi\n",
        "      self.lebar = lebar\n",
        "\n",
        "    def makan(self):\n",
        "      print(\"Hewan sedang makan\")\n",
        "\n",
        "# print(Hewan.klasifikasi)"
      ]
    },
    {
      "cell_type": "code",
      "source": [
        "Kucing = Hewan(100,20)\n",
        "print(Kucing.tinggi)\n",
        "print(Kucing.lebar)"
      ],
      "metadata": {
        "colab": {
          "base_uri": "https://localhost:8080/"
        },
        "id": "vfxIdrO8XyQX",
        "outputId": "70698c7e-7126-4059-a4c7-17efacde00a1"
      },
      "execution_count": 26,
      "outputs": [
        {
          "output_type": "stream",
          "name": "stdout",
          "text": [
            "100\n",
            "20\n"
          ]
        }
      ]
    },
    {
      "cell_type": "markdown",
      "source": [
        "Class Method"
      ],
      "metadata": {
        "id": "rwOMLun3mJS4"
      }
    },
    {
      "cell_type": "code",
      "source": [
        "class Mahasiswa:\n",
        "    kampus = \"Binus\"\n",
        "\n",
        "    def __init__(self, nama, nim, prodi):\n",
        "        self.nama = nama\n",
        "        self.nim = nim\n",
        "        self.prodi = prodi\n",
        "\n",
        "    @classmethod\n",
        "    def gantikampus(cls,kampusbaru):\n",
        "        cls.kampus = kampusbaru\n",
        "\n",
        "Mahasiswa.gantikampus(\"UPN\")\n",
        "\n",
        "print(Mahasiswa.kampus)"
      ],
      "metadata": {
        "colab": {
          "base_uri": "https://localhost:8080/"
        },
        "id": "zvhBMKosdgvL",
        "outputId": "39abb9de-beb9-4d44-f41b-cade5f5c606e"
      },
      "execution_count": 27,
      "outputs": [
        {
          "output_type": "stream",
          "name": "stdout",
          "text": [
            "UPN\n"
          ]
        }
      ]
    },
    {
      "cell_type": "markdown",
      "source": [
        "Static Method"
      ],
      "metadata": {
        "id": "yxWAHSmimdMD"
      }
    },
    {
      "cell_type": "code",
      "source": [
        "class Mahasiswa:\n",
        "    kampus = \"Binus\"\n",
        "\n",
        "    def __init__(self, nama, nim, prodi):\n",
        "        self.nama = nama\n",
        "        self.nim = nim\n",
        "        self.prodi = prodi\n",
        "\n",
        "    @classmethod\n",
        "    def gantikampus(cls,kampusbaru):\n",
        "        cls.kampus = kampusbaru\n",
        "\n",
        "    @staticmethod\n",
        "    def kelulusan(year):\n",
        "      return year < 2024\n",
        "\n",
        "# Mahasiswa.gantikampus(\"UPN\")\n",
        "\n",
        "print(Mahasiswa.kampus)\n",
        "print(Mahasiswa.kelulusan(2023))"
      ],
      "metadata": {
        "colab": {
          "base_uri": "https://localhost:8080/"
        },
        "id": "0yROo3MhmfVZ",
        "outputId": "6980c955-66e9-47a8-f70a-33ecba9e1d6c"
      },
      "execution_count": 30,
      "outputs": [
        {
          "output_type": "stream",
          "name": "stdout",
          "text": [
            "Binus\n",
            "True\n"
          ]
        }
      ]
    },
    {
      "cell_type": "markdown",
      "source": [
        "**OOP PRINCIPLES**"
      ],
      "metadata": {
        "id": "NhD_3bxpnO3S"
      }
    },
    {
      "cell_type": "markdown",
      "source": [
        "Inheritance, Polymorphism dan Encapsulation"
      ],
      "metadata": {
        "id": "qpCTc5HZnUZS"
      }
    },
    {
      "cell_type": "code",
      "source": [
        "class Hewan:\n",
        "    klasifikasi = \"Hidup\"\n",
        "\n",
        "    def __init__(self,tinggi,lebar):\n",
        "      self.tinggi = tinggi\n",
        "      self.lebar = lebar\n",
        "\n",
        "    def makan(self):\n",
        "      print(\"Hewan sedang makan\")\n",
        "\n",
        "class Anjing(Hewan):\n",
        "  def __init__(self,tinggi,lebar,warna):\n",
        "    super().__init__(tinggi,lebar)\n",
        "    self.warna = warna\n",
        "\n",
        "  def makan(self):\n",
        "    print(\"Anjing makan daging\")\n",
        "\n"
      ],
      "metadata": {
        "id": "-KfkuOkYnTJG"
      },
      "execution_count": 31,
      "outputs": []
    },
    {
      "cell_type": "code",
      "source": [
        "Kucing = Hewan(100,20)\n",
        "Kucing.makan()"
      ],
      "metadata": {
        "colab": {
          "base_uri": "https://localhost:8080/"
        },
        "id": "MWTx0QKzoUoh",
        "outputId": "e02961bb-3849-4a7b-883b-af00752e55c8"
      },
      "execution_count": 35,
      "outputs": [
        {
          "output_type": "stream",
          "name": "stdout",
          "text": [
            "Hewan sedang makan\n"
          ]
        }
      ]
    },
    {
      "cell_type": "code",
      "source": [
        "Bleki = Anjing(100,20,\"Hitam\")\n",
        "Bleki.makan()"
      ],
      "metadata": {
        "colab": {
          "base_uri": "https://localhost:8080/"
        },
        "id": "nuWP1JewoMx6",
        "outputId": "6fed26bb-5a5b-4ee8-98c2-ed912f6d0d35"
      },
      "execution_count": 32,
      "outputs": [
        {
          "output_type": "stream",
          "name": "stdout",
          "text": [
            "Anjing makan daging\n"
          ]
        }
      ]
    },
    {
      "cell_type": "markdown",
      "source": [
        "Abstract Method"
      ],
      "metadata": {
        "id": "8ZpIdeuBoq7x"
      }
    },
    {
      "cell_type": "code",
      "source": [
        "from abc import ABC, abstractmethod\n",
        "\n",
        "class Hewan(ABC):\n",
        "    klasifikasi = \"Hidup\"\n",
        "\n",
        "    @abstractmethod\n",
        "    def makan(self):\n",
        "      pass\n",
        "\n",
        "class Kucing(Hewan):\n",
        "  def makan(self):\n",
        "    print(\"Kucing makan ikan\")"
      ],
      "metadata": {
        "id": "xbWcTNCoosU9"
      },
      "execution_count": 38,
      "outputs": []
    },
    {
      "cell_type": "code",
      "source": [
        "Tom = Kucing()\n",
        "Tom.makan()"
      ],
      "metadata": {
        "colab": {
          "base_uri": "https://localhost:8080/"
        },
        "id": "ePQps2P_pB4Z",
        "outputId": "b9fd4460-da4d-4bdf-a531-c4fba6cf0c21"
      },
      "execution_count": 39,
      "outputs": [
        {
          "output_type": "stream",
          "name": "stdout",
          "text": [
            "Kucing makan ikan\n"
          ]
        }
      ]
    },
    {
      "cell_type": "markdown",
      "source": [
        "Parallel Computing"
      ],
      "metadata": {
        "id": "bdvzR9E6phRZ"
      }
    },
    {
      "cell_type": "markdown",
      "source": [
        "MultiThreading"
      ],
      "metadata": {
        "id": "_cE1vu2jqK-K"
      }
    },
    {
      "cell_type": "code",
      "source": [
        "import threading\n",
        "import time\n",
        "\n",
        "def process_data(data):\n",
        "    print(f\"Processing data: {data}\")\n",
        "    time.sleep(2)  # Simulate some processing time\n",
        "    print(f\"Processed data: {data}\")\n",
        "\n",
        "datas = [1,2,3,4]\n",
        "\n",
        "threads = []\n",
        "for data in datas:\n",
        "    thread = threading.Thread(target=process_data, args=(data,))\n",
        "    threads.append(thread)\n",
        "    thread.start()\n",
        "\n",
        "for thread in threads:\n",
        "    thread.join()"
      ],
      "metadata": {
        "colab": {
          "base_uri": "https://localhost:8080/"
        },
        "id": "enYyIKMtpjLk",
        "outputId": "4d77b4cf-97e6-4673-c128-e6b9d9495fdf"
      },
      "execution_count": 40,
      "outputs": [
        {
          "output_type": "stream",
          "name": "stdout",
          "text": [
            "Processing data: 1\n",
            "Processing data: 2\n",
            "Processing data: 3\n",
            "Processing data: 4\n",
            "Processed data: 1\n",
            "Processed data: 2\n",
            "Processed data: 3\n",
            "Processed data: 4\n"
          ]
        }
      ]
    },
    {
      "cell_type": "code",
      "source": [
        "import multiprocessing\n",
        "import time\n",
        "\n",
        "def process_data(data):\n",
        "    print(f\"Processing data: {data}\")\n",
        "    time.sleep(2)  # Simulate some processing time\n",
        "    print(f\"Processed data: {data}\")\n",
        "\n",
        "datas = [1,2,3,4]\n",
        "\n",
        "with multiprocessing.Pool(processes=2) as pool:\n",
        "    pool.map(process_data, datas)\n",
        "\n",
        "print(\"Semua sudah selesai\")"
      ],
      "metadata": {
        "colab": {
          "base_uri": "https://localhost:8080/"
        },
        "id": "4f7Mp8Fosv8e",
        "outputId": "c5ab553f-a116-4aeb-9062-6c68cf1b2366"
      },
      "execution_count": 41,
      "outputs": [
        {
          "output_type": "stream",
          "name": "stdout",
          "text": [
            "Processing data: 2Processing data: 1\n",
            "\n",
            "Processed data: 1Processed data: 2\n",
            "\n",
            "Processing data: 4\n",
            "Processing data: 3\n",
            "Processed data: 4\n",
            "Processed data: 3\n",
            "Semua sudah selesai\n"
          ]
        }
      ]
    },
    {
      "cell_type": "markdown",
      "source": [
        "Dibantu dengan AI Google Collab"
      ],
      "metadata": {
        "id": "fhkUsi1tt4jH"
      }
    }
  ]
}